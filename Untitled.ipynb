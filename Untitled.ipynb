{
 "cells": [
  {
   "cell_type": "code",
   "execution_count": 2,
   "metadata": {},
   "outputs": [],
   "source": [
    "import pickle\n",
    "import pandas as pd\n",
    "\n",
    "df = pickle.load(open(r\"C:\\Users\\danny\\Development\\git\\kol-mapper\\dataframe.p\", \"rb\"))"
   ]
  },
  {
   "cell_type": "code",
   "execution_count": 12,
   "metadata": {},
   "outputs": [
    {
     "name": "stdout",
     "output_type": "stream",
     "text": [
      "\n",
      "1. Front Immunol. 2019 Mar 1;10:344. doi: 10.3389/fimmu.2019.00344. eCollection\n",
      "2019.\n",
      "\n",
      "Molecular Insights Into the Relationship Between Autoimmune Thyroid Diseases and \n",
      "Breast Cancer: A Critical Perspective on Autoimmunity and ER Stress.\n",
      "\n",
      "Rahman S(1), Archana A(2), Jan AT(3), Dutta D(4), Shankar A(5), Kim J(1),\n",
      "Minakshi R(2).\n",
      "\n",
      "Author information: \n",
      "(1)Department of Medical Biotechnology, Yeungnam University, Gyeongsan, South\n",
      "Korea.\n",
      "(2)Department of Microbiology, Swami Shraddhanand College, University of Delhi,\n",
      "New Delhi, India.\n",
      "(3)School of Biosciences and Biotechnology, Baba Ghulam Shah Badshah University, \n",
      "Rajouri, India.\n",
      "(4)Department of Biochemistry, Jan Nayak Chaudhary Devilal Dental College, Sirsa,\n",
      "India.\n",
      "(5)Department of Preventive Oncology, Dr. B. R. Ambedkar Institute Rotary Cancer \n",
      "Hospital, All India Institute of Medical Sciences, New Delhi, India.\n",
      "\n",
      "The etiopathologies behind autoimmune thyroid diseases (AITDs) unravel\n",
      "misbehavior of immune components leading to the corruption of immune homeostasis \n",
      "where thyroid autoantigens turn foe to the self. In AITDs lymphocytic\n",
      "infiltration in the thyroid shows up a deranged immune system charging the\n",
      "follicular cells of the thyroid gland (thyrocytes) leading to the condition of\n",
      "either hyperthyroidism or hypothyroidism. The inflammation in AITDs consistently \n",
      "associate with ER function due to which disturbances in the ER protein\n",
      "homeostasis leads to unfolded protein response (UPR) that promotes pathogenesis\n",
      "of autoimmunity. The roles of ER stress in the instantaneous downregulation of\n",
      "MHC class I molecules on thyrocytes and the relevance of IFN γ in the\n",
      "pathogenesis of AITD has been well-documented. Thyroglobulin being the major\n",
      "target of autoantibodies in most of the AITDs is because of its unusual\n",
      "processing in the ER. Autoimmune disorders display a conglomeration of ER\n",
      "stress-induced UPR activated molecules. Several epidemiological data highlight\n",
      "the preponderance of AITDs in women as well as its concurrence with breast\n",
      "cancer. Both being an active glandular system displaying endocrine activity,\n",
      "thyroid as well as breast tissue show various commonalities in the expression\n",
      "pattern of heterogenous molecules that not only participate in the normal\n",
      "functioning but at the same time share the blame during disease establishment.\n",
      "Studies on the development and progression of breast carcinoma display a deranged\n",
      "and uncontrolled immune response, which is meticulously exploited during tumor\n",
      "metastasis. The molecular crosstalks between AITDs and breast tumor\n",
      "microenvironment rely on active participation of immune cells. The induction of\n",
      "ER stress by Tunicamycin advocates to provide a model for cancer therapy by\n",
      "intervening glycosylation. Therefore, this review attempts to showcase the\n",
      "molecules that are involved in feeding up the relationship between breast\n",
      "carcinoma and AITDs.\n",
      "\n",
      "DOI: 10.3389/fimmu.2019.00344 \n",
      "PMCID: PMC6405522\n",
      "PMID: 30881358 \n"
     ]
    }
   ],
   "source": [
    "print(df.loc['30881358'].Abstract)"
   ]
  }
 ],
 "metadata": {
  "kernelspec": {
   "display_name": "Python 3",
   "language": "python",
   "name": "python3"
  },
  "language_info": {
   "codemirror_mode": {
    "name": "ipython",
    "version": 3
   },
   "file_extension": ".py",
   "mimetype": "text/x-python",
   "name": "python",
   "nbconvert_exporter": "python",
   "pygments_lexer": "ipython3",
   "version": "3.7.1"
  }
 },
 "nbformat": 4,
 "nbformat_minor": 2
}
