{
 "cells": [
  {
   "cell_type": "code",
   "execution_count": 5,
   "metadata": {},
   "outputs": [
    {
     "data": {
      "text/plain": [
       "3.141592653589793"
      ]
     },
     "execution_count": 5,
     "metadata": {},
     "output_type": "execute_result"
    }
   ],
   "source": [
    "import math\n",
    "\n",
    "math.sin(3.14)\n",
    "math.pi"
   ]
  },
  {
   "cell_type": "code",
   "execution_count": 4,
   "metadata": {},
   "outputs": [
    {
     "name": "stdout",
     "output_type": "stream",
     "text": [
      "[1, 1, 3, 4, 6]\n"
     ]
    }
   ],
   "source": [
    "list1 = [4, 3, 1, 1, 6]\n",
    "list1.sort()\n",
    "print(list1)"
   ]
  },
  {
   "cell_type": "code",
   "execution_count": 5,
   "metadata": {},
   "outputs": [],
   "source": [
    "def solution(ranks):\n",
    "    subordinate_soldiers = 0\n",
    "    \n",
    "    ranks.sort()\n",
    "    \n",
    "    previous_rank = ranks[0]\n",
    "    soldiers_in_rank = 1\n",
    "    for rank in ranks[1:]:\n",
    "        if rank == previous_rank:\n",
    "            soldiers_in_rank += 1\n",
    "            next\n",
    "        elif rank == previous_rank + 1:\n",
    "            subordinate_soldiers += soldiers_in_rank\n",
    "            soldiers_in_rank = 1\n",
    "            previous_rank = rank\n",
    "        else:\n",
    "            soldiers_in_rank = 1\n",
    "            previous_rank = rank\n",
    "    \n",
    "    return subordinate_soldiers"
   ]
  },
  {
   "cell_type": "code",
   "execution_count": 71,
   "metadata": {},
   "outputs": [],
   "source": [
    "import math\n",
    "import pandas as pd\n",
    "\n",
    "def solution(S, X, Y):\n",
    "    # write your code in Python 3.6\n",
    "    \n",
    "    def xy_to_rho(row):\n",
    "        return math.sqrt(row.x**2 + row.y**2)\n",
    "    \n",
    "    df = pd.DataFrame({\n",
    "        's': S, \n",
    "        'x': X,\n",
    "        'y': Y\n",
    "    })\n",
    "    \n",
    "    df['rho'] = df[['x', 'y']].apply(xy_to_rho, axis=1)\n",
    "    df.drop(columns=['x', 'y'], inplace=True)\n",
    "    df = df.sort_values(by='rho').reset_index(drop=True)\n",
    "    print(df[df['s'].duplicated() == True].index[0])\n",
    "    print(df.head())\n",
    "    \n"
   ]
  },
  {
   "cell_type": "code",
   "execution_count": 123,
   "metadata": {},
   "outputs": [],
   "source": [
    "import math\n",
    "\n",
    "def solution(S, X, Y):\n",
    "    # write your code in Python 3.6\n",
    "    \n",
    "    def xy_to_rho(x, y):\n",
    "        return math.sqrt(x**2 + y**2)\n",
    "    \n",
    "    s_rho = sorted(zip(S, map(xy_to_rho, X, Y)), key=lambda tup: tup[1])\n",
    "    print(s_rho[2])\n",
    "    circled_tags = set()\n",
    "    for i, (s, r) in enumerate(s_rho):\n",
    "        if s in circled_tags:\n",
    "            if s_rho[i+1][1] == r:\n",
    "                return i-1\n",
    "            else:\n",
    "                return i\n",
    "        circled_tags.add(s)"
   ]
  },
  {
   "cell_type": "code",
   "execution_count": 124,
   "metadata": {},
   "outputs": [
    {
     "name": "stdout",
     "output_type": "stream",
     "text": [
      "('C', 3.1622776601683795)\n"
     ]
    },
    {
     "data": {
      "text/plain": [
       "3"
      ]
     },
     "execution_count": 124,
     "metadata": {},
     "output_type": "execute_result"
    }
   ],
   "source": [
    "S = ['A', 'B', 'D', 'C', 'A']\n",
    "X = [2, -1, -4, -3, 3]\n",
    "Y = [2, -2, 4, 1, -3]\n",
    "solution(S, X, Y)"
   ]
  },
  {
   "cell_type": "code",
   "execution_count": null,
   "metadata": {},
   "outputs": [],
   "source": []
  }
 ],
 "metadata": {
  "kernelspec": {
   "display_name": "Python 3",
   "language": "python",
   "name": "python3"
  },
  "language_info": {
   "codemirror_mode": {
    "name": "ipython",
    "version": 3
   },
   "file_extension": ".py",
   "mimetype": "text/x-python",
   "name": "python",
   "nbconvert_exporter": "python",
   "pygments_lexer": "ipython3",
   "version": "3.7.1"
  }
 },
 "nbformat": 4,
 "nbformat_minor": 2
}
