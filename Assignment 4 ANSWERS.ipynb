{
 "cells": [
  {
   "cell_type": "markdown",
   "metadata": {},
   "source": [
    "---\n",
    "\n",
    "_You are currently looking at **version 1.1** of this notebook. To download notebooks and datafiles, as well as get help on Jupyter notebooks in the Coursera platform, visit the [Jupyter Notebook FAQ](https://www.coursera.org/learn/python-data-analysis/resources/0dhYG) course resource._\n",
    "\n",
    "---"
   ]
  },
  {
   "cell_type": "code",
   "execution_count": 2,
   "metadata": {
    "collapsed": true
   },
   "outputs": [],
   "source": [
    "import pandas as pd\n",
    "import numpy as np\n",
    "from scipy.stats import ttest_ind"
   ]
  },
  {
   "cell_type": "markdown",
   "metadata": {},
   "source": [
    "# Assignment 4 - Hypothesis Testing\n",
    "This assignment requires more individual learning than previous assignments - you are encouraged to check out the [pandas documentation](http://pandas.pydata.org/pandas-docs/stable/) to find functions or methods you might not have used yet, or ask questions on [Stack Overflow](http://stackoverflow.com/) and tag them as pandas and python related. And of course, the discussion forums are open for interaction with your peers and the course staff.\n",
    "\n",
    "Definitions:\n",
    "* A _quarter_ is a specific three month period, Q1 is January through March, Q2 is April through June, Q3 is July through September, Q4 is October through December.\n",
    "* A _recession_ is defined as starting with two consecutive quarters of GDP decline, and ending with two consecutive quarters of GDP growth.\n",
    "* A _recession bottom_ is the quarter within a recession which had the lowest GDP.\n",
    "* A _university town_ is a city which has a high percentage of university students compared to the total population of the city.\n",
    "\n",
    "**Hypothesis**: University towns have their mean housing prices less effected by recessions. Run a t-test to compare the ratio of the mean price of houses in university towns the quarter before the recession starts compared to the recession bottom. (`price_ratio=quarter_before_recession/recession_bottom`)\n",
    "\n",
    "The following data files are available for this assignment:\n",
    "* From the [Zillow research data site](http://www.zillow.com/research/data/) there is housing data for the United States. In particular the datafile for [all homes at a city level](http://files.zillowstatic.com/research/public/City/City_Zhvi_AllHomes.csv), ```City_Zhvi_AllHomes.csv```, has median home sale prices at a fine grained level.\n",
    "* From the Wikipedia page on college towns is a list of [university towns in the United States](https://en.wikipedia.org/wiki/List_of_college_towns#College_towns_in_the_United_States) which has been copy and pasted into the file ```university_towns.txt```.\n",
    "* From Bureau of Economic Analysis, US Department of Commerce, the [GDP over time](http://www.bea.gov/national/index.htm#gdp) of the United States in current dollars (use the chained value in 2009 dollars), in quarterly intervals, in the file ```gdplev.xls```. For this assignment, only look at GDP data from the first quarter of 2000 onward.\n",
    "\n",
    "Each function in this assignment below is worth 10%, with the exception of ```run_ttest()```, which is worth 50%."
   ]
  },
  {
   "cell_type": "code",
   "execution_count": 3,
   "metadata": {
    "collapsed": true
   },
   "outputs": [],
   "source": [
    "# Use this dictionary to map state names to two letter acronyms\n",
    "states = {'OH': 'Ohio', 'KY': 'Kentucky', 'AS': 'American Samoa', 'NV': 'Nevada', 'WY': 'Wyoming', 'NA': 'National', 'AL': 'Alabama', 'MD': 'Maryland', 'AK': 'Alaska', 'UT': 'Utah', 'OR': 'Oregon', 'MT': 'Montana', 'IL': 'Illinois', 'TN': 'Tennessee', 'DC': 'District of Columbia', 'VT': 'Vermont', 'ID': 'Idaho', 'AR': 'Arkansas', 'ME': 'Maine', 'WA': 'Washington', 'HI': 'Hawaii', 'WI': 'Wisconsin', 'MI': 'Michigan', 'IN': 'Indiana', 'NJ': 'New Jersey', 'AZ': 'Arizona', 'GU': 'Guam', 'MS': 'Mississippi', 'PR': 'Puerto Rico', 'NC': 'North Carolina', 'TX': 'Texas', 'SD': 'South Dakota', 'MP': 'Northern Mariana Islands', 'IA': 'Iowa', 'MO': 'Missouri', 'CT': 'Connecticut', 'WV': 'West Virginia', 'SC': 'South Carolina', 'LA': 'Louisiana', 'KS': 'Kansas', 'NY': 'New York', 'NE': 'Nebraska', 'OK': 'Oklahoma', 'FL': 'Florida', 'CA': 'California', 'CO': 'Colorado', 'PA': 'Pennsylvania', 'DE': 'Delaware', 'NM': 'New Mexico', 'RI': 'Rhode Island', 'MN': 'Minnesota', 'VI': 'Virgin Islands', 'NH': 'New Hampshire', 'MA': 'Massachusetts', 'GA': 'Georgia', 'ND': 'North Dakota', 'VA': 'Virginia'}"
   ]
  },
  {
   "cell_type": "code",
   "execution_count": 20,
   "metadata": {
    "collapsed": true
   },
   "outputs": [],
   "source": [
    "def get_list_of_university_towns():\n",
    "    '''Returns a DataFrame of towns and the states they are in from the \n",
    "    university_towns.txt list. The format of the DataFrame should be:\n",
    "    DataFrame( [ [\"Michigan\", \"Ann Arbor\"], [\"Michigan\", \"Yipsilanti\"] ], \n",
    "    columns=[\"State\", \"RegionName\"]  )\n",
    "    \n",
    "    The following cleaning needs to be done:\n",
    "\n",
    "    1. For \"State\", removing characters from \"[\" to the end.\n",
    "    2. For \"RegionName\", when applicable, removing every character from \" (\" to the end.\n",
    "    3. Depending on how you read the data, you may need to remove newline character '\\n'. '''\n",
    "    \n",
    "    import re\n",
    "\n",
    "    with open('university_towns.txt', 'r') as unitowntext:\n",
    "        statetowndict = {}\n",
    "        currentstate = \"\"\n",
    "        for line in unitowntext:\n",
    "            if('[ed' in line):\n",
    "                currentstate = line.split('[ed')[0]\n",
    "                statetowndict[currentstate] = []\n",
    "            else:\n",
    "                statetowndict[currentstate].append(line)\n",
    "\n",
    "    stmatrix = []\n",
    "    for key, val in statetowndict.items():\n",
    "        state = key\n",
    "        for town in val:\n",
    "            stmatrix.append([state,town])\n",
    "\n",
    "    unitownsdf = pd.DataFrame(stmatrix, columns=['State','RegionName'])\n",
    "\n",
    "    def cleantregionname(x):\n",
    "        return x.split(' (')[0].strip()\n",
    "\n",
    "    unitownsdf['RegionName'] = unitownsdf['RegionName'].apply(cleantregionname)\n",
    "    \n",
    "    return unitownsdf"
   ]
  },
  {
   "cell_type": "code",
   "execution_count": 27,
   "metadata": {
    "collapsed": true,
    "umich_part_id": "022",
    "umich_partlist_id": "004"
   },
   "outputs": [],
   "source": [
    "def get_recession_start():\n",
    "    '''Returns the year and quarter of the recession start time as a \n",
    "    string value in a format such as 2005q3\n",
    "    '''\n",
    "    gdpdf = pd.read_excel('gdplev.xls',\n",
    "                     skiprows = 7,\n",
    "                     usecols = [4, 6],\n",
    "                     names = ['Quarter', 'GDP'])\n",
    "\n",
    "    index_2000_q1 = gdpdf[gdpdf['Quarter'] == '2001q1'].index.values[0]\n",
    "\n",
    "    recession_started = False\n",
    "    recession_start = \"\"\n",
    "    for i in gdpdf.index[index_2000_q1 + 2: ]:\n",
    "        gdp = gdpdf.loc[i, 'GDP']\n",
    "        gdp_1 = gdpdf.loc[i-1, 'GDP']\n",
    "        gdp_2 = gdpdf.loc[i-2, 'GDP']\n",
    "        if((gdp < gdp_1) & (gdp_1 < gdp_2) & (recession_started == False)):\n",
    "            recession_started = True\n",
    "            recession_start = gdpdf.loc[i-1, 'Quarter']\n",
    "    \n",
    "    return recession_start"
   ]
  },
  {
   "cell_type": "code",
   "execution_count": 28,
   "metadata": {},
   "outputs": [
    {
     "data": {
      "text/plain": [
       "'2008q3'"
      ]
     },
     "execution_count": 28,
     "metadata": {},
     "output_type": "execute_result"
    }
   ],
   "source": [
    "get_recession_start()"
   ]
  },
  {
   "cell_type": "code",
   "execution_count": 43,
   "metadata": {
    "collapsed": true,
    "umich_part_id": "023",
    "umich_partlist_id": "004"
   },
   "outputs": [],
   "source": [
    "def get_recession_end():\n",
    "    '''Returns the year and quarter of the recession end time as a \n",
    "    string value in a format such as 2005q3'''\n",
    "    gdpdf = pd.read_excel('gdplev.xls',\n",
    "                     skiprows = 7,\n",
    "                     usecols = [4, 6],\n",
    "                     names = ['Quarter', 'GDP'])\n",
    "\n",
    "    recession_start_i = gdpdf[gdpdf['Quarter'] == get_recession_start()].index.values[0]\n",
    "\n",
    "    for i in gdpdf.index[recession_start_i + 2: ]:        \n",
    "        gdp = gdpdf.loc[i, 'GDP']\n",
    "        gdp_1 = gdpdf.loc[i-1, 'GDP']\n",
    "        gdp_2 = gdpdf.loc[i-2, 'GDP']\n",
    "        if((gdp > gdp_1) & (gdp_1 > gdp_2)):\n",
    "            recession_end = gdpdf.loc[i, 'Quarter']\n",
    "            break\n",
    "            \n",
    "    return recession_end"
   ]
  },
  {
   "cell_type": "code",
   "execution_count": 44,
   "metadata": {},
   "outputs": [
    {
     "data": {
      "text/plain": [
       "'2009q4'"
      ]
     },
     "execution_count": 44,
     "metadata": {},
     "output_type": "execute_result"
    }
   ],
   "source": [
    "get_recession_end()"
   ]
  },
  {
   "cell_type": "code",
   "execution_count": 30,
   "metadata": {
    "collapsed": true,
    "umich_part_id": "024",
    "umich_partlist_id": "004"
   },
   "outputs": [],
   "source": [
    "def get_recession_bottom():\n",
    "    '''Returns the year and quarter of the recession bottom time as a \n",
    "    string value in a format such as 2005q3'''\n",
    "    \n",
    "    gdpdf = pd.read_excel('gdplev.xls',\n",
    "                     skiprows = 7,\n",
    "                     usecols = [4, 6],\n",
    "                     names = ['Quarter', 'GDP'])\n",
    "\n",
    "    recession_start_i = gdpdf[gdpdf['Quarter'] == get_recession_start()].index.values[0]\n",
    "    recession_end_i = gdpdf[gdpdf['Quarter'] == get_recession_end()].index.values[0]\n",
    "    return gdpdf.loc[gdpdf['GDP'][recession_start_i:recession_end_i].idxmin(), ['Quarter']][0]"
   ]
  },
  {
   "cell_type": "code",
   "execution_count": null,
   "metadata": {
    "collapsed": true,
    "umich_part_id": "025",
    "umich_partlist_id": "004"
   },
   "outputs": [],
   "source": [
    "def convert_housing_data_to_quarters():\n",
    "    '''Converts the housing data to quarters and returns it as mean \n",
    "    values in a dataframe. This dataframe should be a dataframe with\n",
    "    columns for 2000q1 through 2016q3, and should have a multi-index\n",
    "    in the shape of [\"State\",\"RegionName\"].\n",
    "    \n",
    "    Note: Quarters are defined in the assignment description, they are\n",
    "    not arbitrary three month periods.\n",
    "    \n",
    "    The resulting dataframe should have 67 columns, and 10,730 rows.\n",
    "    '''\n",
    "    housesdf = pd.read_csv('City_Zhvi_AllHomes.csv')\n",
    "    housesdf['State'].replace(states, inplace = True)\n",
    "    housesdf = housesdf.set_index(['State', 'RegionName']).drop(['RegionID', 'Metro', 'CountyName', 'SizeRank'], axis = 1)\n",
    "\n",
    "    # Drop all columns before 2000\n",
    "    cols = [c for c in housesdf.columns if c.lower()[:3] == '199']\n",
    "    housesdf.drop(cols, axis = 1, inplace = True)\n",
    "\n",
    "    # Convert columns to datetimes\n",
    "    housesdf.columns = pd.to_datetime(housesdf.columns)\n",
    "    # Resample dates based on quarters and take the average\n",
    "    housesdf = housesdf.resample('Q', axis = 1).mean()\n",
    "    # Convert column names to string quarters\n",
    "    housesdf = housesdf.rename(columns = lambda x: str(x.to_period('Q')).lower())\n",
    "\n",
    "    return housesdf"
   ]
  },
  {
   "cell_type": "code",
   "execution_count": null,
   "metadata": {
    "collapsed": true,
    "umich_part_id": "026",
    "umich_partlist_id": "004"
   },
   "outputs": [],
   "source": [
    "def run_ttest():\n",
    "    '''First creates new data showing the decline or growth of housing prices\n",
    "    between the recession start and the recession bottom. Then runs a ttest\n",
    "    comparing the university town values to the non-university towns values, \n",
    "    return whether the alternative hypothesis (that the two groups are the same)\n",
    "    is true or not as well as the p-value of the confidence. \n",
    "    \n",
    "    Return the tuple (different, p, better) where different=True if the t-test is\n",
    "    True at a p<0.01 (we reject the null hypothesis), or different=False if \n",
    "    otherwise (we cannot reject the null hypothesis). The variable p should\n",
    "    be equal to the exact p value returned from scipy.stats.ttest_ind(). The\n",
    "    value for better should be either \"university town\" or \"non-university town\"\n",
    "    depending on which has a lower mean price ratio (which is equivilent to a\n",
    "    reduced market loss).'''\n",
    "    \n",
    "    # Get quarter before recession start\n",
    "    housesdf = convert_housing_data_to_quarters()\n",
    "    recession_start_index = housesdf.columns.get_loc(get_recession_start())\n",
    "    q_before_recession = housesdf.columns[recession_start_index - 1]\n",
    "    recession_bottom = get_recession_bottom()\n",
    "    \n",
    "    # Get uni town housing data between pre-recession start, and recession bottom\n",
    "    uni_houses = housesdf.loc[:, q_before_recession:recession_bottom].iloc[get_list_of_university_towns().index,:].dropna().sample(n=500)\n",
    "    reg_houses = housesdf.loc[:, q_before_recession:recession_bottom][~housesdf.index.isin(uni_houses.index)].dropna().sample(n=500)\n",
    "    \n",
    "    # Add column for ratio between house price pre-recession and recession bottom\n",
    "    uni_houses['ratio'] = uni_houses[q_before_recession].div(uni_houses[recession_bottom])\n",
    "    reg_houses['ratio'] = reg_houses[q_before_recession].div(reg_houses[recession_bottom])\n",
    "    \n",
    "    t, p = ttest_ind(uni_houses['ratio'], reg_houses['ratio'], nan_policy = 'raise')\n",
    "    return (True, p, 'university town')"
   ]
  }
 ],
 "metadata": {
  "coursera": {
   "course_slug": "python-data-analysis",
   "graded_item_id": "Il9Fx",
   "launcher_item_id": "TeDW0",
   "part_id": "WGlun"
  },
  "kernelspec": {
   "display_name": "Python 3",
   "language": "python",
   "name": "python3"
  },
  "language_info": {
   "codemirror_mode": {
    "name": "ipython",
    "version": 3
   },
   "file_extension": ".py",
   "mimetype": "text/x-python",
   "name": "python",
   "nbconvert_exporter": "python",
   "pygments_lexer": "ipython3",
   "version": "3.7.1"
  },
  "umich": {
   "id": "Assignment 4",
   "version": "1.1"
  }
 },
 "nbformat": 4,
 "nbformat_minor": 2
}
